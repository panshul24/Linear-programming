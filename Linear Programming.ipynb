{
 "cells": [
  {
   "cell_type": "markdown",
   "metadata": {},
   "source": [
    "# Unsupervised Learning and Linear Programming"
   ]
  },
  {
   "cell_type": "code",
   "execution_count": 9,
   "metadata": {},
   "outputs": [
    {
     "data": {
      "text/plain": [
       "(   Month SUP_ID  Defects  Delivery  Unit_Cost  Flexibility\n",
       " 0      1  SUP_1     16.6         5      25.62          5.5\n",
       " 1      2  SUP_1      4.7        11      26.61          1.7\n",
       " 2      3  SUP_1      5.1         1      33.81          0.6\n",
       " 3      4  SUP_1     17.4         7      33.62          3.2\n",
       " 4      5  SUP_1      4.5         5      42.11          2.5,\n",
       "    SUP_ID Location Partnership Size\n",
       " 0   SUP_1        D           I    L\n",
       " 1  SUP_10        G           I    L\n",
       " 2  SUP_11        D           I    M\n",
       " 3  SUP_12        D           P    L\n",
       " 4  SUP_13        G           I    S)"
      ]
     },
     "execution_count": 9,
     "metadata": {},
     "output_type": "execute_result"
    }
   ],
   "source": [
    "import pandas as pd\n",
    "from sklearn.cluster import KMeans\n",
    "import matplotlib.pyplot as plt\n",
    "\n",
    "# Load the data \n",
    "audit_data = pd.read_csv('SupplierAuditData.csv')\n",
    "characteristics_data = pd.read_csv('SupplierCharacteristics.csv')\n",
    "\n",
    "# Display the first few rows of each dataframe to understand their structures\n",
    "audit_data.head(), characteristics_data.head()\n"
   ]
  },
  {
   "cell_type": "code",
   "execution_count": 12,
   "metadata": {},
   "outputs": [
    {
     "data": {
      "text/html": [
       "<div>\n",
       "<style scoped>\n",
       "    .dataframe tbody tr th:only-of-type {\n",
       "        vertical-align: middle;\n",
       "    }\n",
       "\n",
       "    .dataframe tbody tr th {\n",
       "        vertical-align: top;\n",
       "    }\n",
       "\n",
       "    .dataframe thead th {\n",
       "        text-align: right;\n",
       "    }\n",
       "</style>\n",
       "<table border=\"1\" class=\"dataframe\">\n",
       "  <thead>\n",
       "    <tr style=\"text-align: right;\">\n",
       "      <th></th>\n",
       "      <th>SUP_ID</th>\n",
       "      <th>avg_defects</th>\n",
       "      <th>std_defects</th>\n",
       "      <th>avg_cost</th>\n",
       "      <th>std_cost</th>\n",
       "      <th>avg_delivery_time</th>\n",
       "      <th>avg_flexibility</th>\n",
       "    </tr>\n",
       "  </thead>\n",
       "  <tbody>\n",
       "    <tr>\n",
       "      <th>0</th>\n",
       "      <td>SUP_1</td>\n",
       "      <td>9.345000</td>\n",
       "      <td>4.578262</td>\n",
       "      <td>30.534167</td>\n",
       "      <td>4.960600</td>\n",
       "      <td>4.750000</td>\n",
       "      <td>2.058333</td>\n",
       "    </tr>\n",
       "    <tr>\n",
       "      <th>1</th>\n",
       "      <td>SUP_10</td>\n",
       "      <td>9.855000</td>\n",
       "      <td>5.328193</td>\n",
       "      <td>19.745333</td>\n",
       "      <td>4.772947</td>\n",
       "      <td>34.950000</td>\n",
       "      <td>1.825000</td>\n",
       "    </tr>\n",
       "    <tr>\n",
       "      <th>2</th>\n",
       "      <td>SUP_11</td>\n",
       "      <td>19.711667</td>\n",
       "      <td>11.547113</td>\n",
       "      <td>25.355417</td>\n",
       "      <td>7.257808</td>\n",
       "      <td>4.800000</td>\n",
       "      <td>5.615000</td>\n",
       "    </tr>\n",
       "    <tr>\n",
       "      <th>3</th>\n",
       "      <td>SUP_12</td>\n",
       "      <td>9.873333</td>\n",
       "      <td>1.013781</td>\n",
       "      <td>35.006000</td>\n",
       "      <td>1.047575</td>\n",
       "      <td>4.933333</td>\n",
       "      <td>1.848333</td>\n",
       "    </tr>\n",
       "    <tr>\n",
       "      <th>4</th>\n",
       "      <td>SUP_13</td>\n",
       "      <td>31.048333</td>\n",
       "      <td>4.458832</td>\n",
       "      <td>19.969833</td>\n",
       "      <td>2.087725</td>\n",
       "      <td>35.283333</td>\n",
       "      <td>8.913333</td>\n",
       "    </tr>\n",
       "  </tbody>\n",
       "</table>\n",
       "</div>"
      ],
      "text/plain": [
       "   SUP_ID  avg_defects  std_defects   avg_cost  std_cost  avg_delivery_time  \\\n",
       "0   SUP_1     9.345000     4.578262  30.534167  4.960600           4.750000   \n",
       "1  SUP_10     9.855000     5.328193  19.745333  4.772947          34.950000   \n",
       "2  SUP_11    19.711667    11.547113  25.355417  7.257808           4.800000   \n",
       "3  SUP_12     9.873333     1.013781  35.006000  1.047575           4.933333   \n",
       "4  SUP_13    31.048333     4.458832  19.969833  2.087725          35.283333   \n",
       "\n",
       "   avg_flexibility  \n",
       "0         2.058333  \n",
       "1         1.825000  \n",
       "2         5.615000  \n",
       "3         1.848333  \n",
       "4         8.913333  "
      ]
     },
     "execution_count": 12,
     "metadata": {},
     "output_type": "execute_result"
    }
   ],
   "source": [
    "# Group by supplier and calculate the required statistics\n",
    "stats = audit_data.groupby('SUP_ID').agg(\n",
    "    avg_defects=pd.NamedAgg(column='Defects', aggfunc='mean'),\n",
    "    std_defects=pd.NamedAgg(column='Defects', aggfunc='std'),\n",
    "    avg_cost=pd.NamedAgg(column='Unit_Cost', aggfunc='mean'),\n",
    "    std_cost=pd.NamedAgg(column='Unit_Cost', aggfunc='std'),\n",
    "    avg_delivery_time=pd.NamedAgg(column='Delivery', aggfunc='mean'),\n",
    "    avg_flexibility=pd.NamedAgg(column='Flexibility', aggfunc='mean')\n",
    ")\n",
    "\n",
    "# Reset the index to make SUP_ID a column again\n",
    "stats.reset_index(inplace=True)\n",
    "stats.head()\n"
   ]
  },
  {
   "cell_type": "code",
   "execution_count": 13,
   "metadata": {},
   "outputs": [
    {
     "data": {
      "text/html": [
       "<div>\n",
       "<style scoped>\n",
       "    .dataframe tbody tr th:only-of-type {\n",
       "        vertical-align: middle;\n",
       "    }\n",
       "\n",
       "    .dataframe tbody tr th {\n",
       "        vertical-align: top;\n",
       "    }\n",
       "\n",
       "    .dataframe thead th {\n",
       "        text-align: right;\n",
       "    }\n",
       "</style>\n",
       "<table border=\"1\" class=\"dataframe\">\n",
       "  <thead>\n",
       "    <tr style=\"text-align: right;\">\n",
       "      <th></th>\n",
       "      <th>avg_defects</th>\n",
       "      <th>std_defects</th>\n",
       "      <th>avg_cost</th>\n",
       "      <th>std_cost</th>\n",
       "      <th>avg_delivery_time</th>\n",
       "      <th>avg_flexibility</th>\n",
       "    </tr>\n",
       "  </thead>\n",
       "  <tbody>\n",
       "    <tr>\n",
       "      <th>0</th>\n",
       "      <td>30.2395</td>\n",
       "      <td>5.032960</td>\n",
       "      <td>20.199267</td>\n",
       "      <td>2.002172</td>\n",
       "      <td>34.840000</td>\n",
       "      <td>5.597500</td>\n",
       "    </tr>\n",
       "    <tr>\n",
       "      <th>1</th>\n",
       "      <td>9.8500</td>\n",
       "      <td>1.608203</td>\n",
       "      <td>34.275972</td>\n",
       "      <td>1.693151</td>\n",
       "      <td>4.844444</td>\n",
       "      <td>2.024444</td>\n",
       "    </tr>\n",
       "    <tr>\n",
       "      <th>2</th>\n",
       "      <td>9.8250</td>\n",
       "      <td>4.754684</td>\n",
       "      <td>20.149700</td>\n",
       "      <td>5.174217</td>\n",
       "      <td>35.583333</td>\n",
       "      <td>2.004667</td>\n",
       "    </tr>\n",
       "    <tr>\n",
       "      <th>3</th>\n",
       "      <td>21.8630</td>\n",
       "      <td>9.962426</td>\n",
       "      <td>24.046567</td>\n",
       "      <td>6.719888</td>\n",
       "      <td>4.768333</td>\n",
       "      <td>6.192000</td>\n",
       "    </tr>\n",
       "  </tbody>\n",
       "</table>\n",
       "</div>"
      ],
      "text/plain": [
       "   avg_defects  std_defects   avg_cost  std_cost  avg_delivery_time  \\\n",
       "0      30.2395     5.032960  20.199267  2.002172          34.840000   \n",
       "1       9.8500     1.608203  34.275972  1.693151           4.844444   \n",
       "2       9.8250     4.754684  20.149700  5.174217          35.583333   \n",
       "3      21.8630     9.962426  24.046567  6.719888           4.768333   \n",
       "\n",
       "   avg_flexibility  \n",
       "0         5.597500  \n",
       "1         2.024444  \n",
       "2         2.004667  \n",
       "3         6.192000  "
      ]
     },
     "execution_count": 13,
     "metadata": {},
     "output_type": "execute_result"
    }
   ],
   "source": [
    "# Prepare the data for clustering\n",
    "features = stats[['avg_defects', 'std_defects', 'avg_cost', 'std_cost', 'avg_delivery_time', 'avg_flexibility']]\n",
    "\n",
    "# Initialize and fit the KMeans algorithm with k=4 clusters\n",
    "kmeans = KMeans(n_clusters=4, random_state=1234)\n",
    "kmeans.fit(features)\n",
    "\n",
    "# Cluster centers\n",
    "cluster_centers = pd.DataFrame(kmeans.cluster_centers_, columns=features.columns)\n",
    "cluster_centers\n"
   ]
  },
  {
   "cell_type": "markdown",
   "metadata": {},
   "source": [
    "### Interpretation of Clusters:\n",
    "\n",
    "#### Cluster 0 (Low Cost, High Delivery Time): \n",
    "This cluster is characterized by relatively low average defects and cost, with high standard deviation in cost and significantly longer delivery times. Suppliers in this cluster offer economical options but at the cost of slower delivery.\n",
    "\n",
    "#### Cluster 1 (High Cost, Low Defect Variability): \n",
    "Suppliers in this cluster have high costs and low defect variability, suggesting they offer high-quality and consistent products but at a premium price. Their delivery times are also very short, indicating efficient processes.\n",
    "\n",
    "#### Cluster 2 (High Defects, High Flexibility):\n",
    "This cluster features suppliers with the highest defects but also high flexibility. These suppliers adapt to different requirements, although quality control could be an issue.\n",
    "\n",
    "#### Cluster 3 (Moderate Cost, High Quality Variability): \n",
    "Suppliers in this cluster have moderate costs, high variability in quality, and are relatively flexible. They also manage to maintain short delivery times. These suppliers could be suitable for projects where flexibility and quick delivery are more critical than consistently low defect rates.\n",
    "\n",
    "\n"
   ]
  },
  {
   "cell_type": "code",
   "execution_count": 16,
   "metadata": {},
   "outputs": [
    {
     "data": {
      "image/png": "[encoded data removed]",
      "text/plain": [
       "<Figure size 1400x1000 with 4 Axes>"
      ]
     },
     "metadata": {},
     "output_type": "display_data"
    }
   ],
   "source": [
    "# Plotting\n",
    "\n",
    "clusters = kmeans.predict(features)\n",
    "\n",
    "fig, axs = plt.subplots(2, 2, figsize=(14, 10))\n",
    "fig.subplots_adjust(hspace=0.3, wspace=0.3)\n",
    "\n",
    "# Plot 1: Average Defects vs. Standard Deviation of Defects\n",
    "axs[0, 0].scatter(stats['avg_defects'], stats['std_defects'], c=clusters, cmap='viridis')\n",
    "axs[0, 0].set_title('(i) Average Defects vs. Standard Deviation of Defects')\n",
    "axs[0, 0].set_xlabel('Average Defects')\n",
    "axs[0, 0].set_ylabel('Standard Deviation of Defects')\n",
    "\n",
    "# Plot 2: Average Defects vs. Average Costs\n",
    "axs[0, 1].scatter(stats['avg_defects'], stats['avg_cost'], c=clusters, cmap='viridis')\n",
    "axs[0, 1].set_title('(ii) Average Defects vs. Average Costs')\n",
    "axs[0, 1].set_xlabel('Average Defects')\n",
    "axs[0, 1].set_ylabel('Average Costs')\n",
    "\n",
    "# Plot 3: Average Defects vs. Average Delivery Time\n",
    "axs[1, 0].scatter(stats['avg_defects'], stats['avg_delivery_time'], c=clusters, cmap='viridis')\n",
    "axs[1, 0].set_title('(iii) Average Defects vs. Average Delivery Time')\n",
    "axs[1, 0].set_xlabel('Average Defects')\n",
    "axs[1, 0].set_ylabel('Average Delivery Time')\n",
    "\n",
    "# Plot 4: Average Cost vs. Average Flexibility\n",
    "axs[1, 1].scatter(stats['avg_cost'], stats['avg_flexibility'], c=clusters, cmap='viridis')\n",
    "axs[1, 1].set_title('(iv) Average Cost vs. Average Flexibility')\n",
    "axs[1, 1].set_xlabel('Average Cost')\n",
    "axs[1, 1].set_ylabel('Average Flexibility')\n",
    "\n",
    "plt.show()"
   ]
  },
  {
   "cell_type": "markdown",
   "metadata": {},
   "source": [
    "#### (i) Average Defects vs. Standard Deviation of Defects:\n",
    "\n",
    "Observation: Clusters in this plot suggest varying levels of defect predictability. Some clusters show low variability in defects despite a range of average defects, while others show high variability.\n",
    "Insight: Suppliers in the cluster with lower standard deviation (more consistent defect rates) could be more reliable, despite their average defect rates.\n",
    "\n",
    "#### (ii) Average Defects vs. Average Costs:\n",
    "\n",
    "Observation: There appears to be a slight positive correlation in some clusters between defect rates and costs, which is counterintuitive.\n",
    "Insight: This indicates that higher costs do not necessarily equate to lower defects, or it means that some suppliers manage quality differently.\n",
    "\n",
    "#### (iii) Average Defects vs. Average Delivery Time:\n",
    "\n",
    "Observation: Higher defects seem to correlate with shorter delivery times in some clusters.\n",
    "Insight: This suggests a trade-off between speed and quality, where faster deliveries come at the expense of higher defects.\n",
    "\n",
    "#### (iv) Average Cost vs. Average Flexibility:\n",
    "\n",
    "Observation: There's notable separation between clusters, particularly with one showing high cost and high flexibility.\n",
    "Insight: Suppliers that cost more tend to offer more flexibility, potentially justifying higher prices with better service or adaptability."
   ]
  },
  {
   "cell_type": "code",
   "execution_count": 31,
   "metadata": {},
   "outputs": [
    {
     "name": "stdout",
     "output_type": "stream",
     "text": [
      "Clusters vs Size:\n",
      " Size     L  M  S\n",
      "Cluster         \n",
      "0        5  0  5\n",
      "1        6  0  0\n",
      "2        5  0  0\n",
      "3        0  4  1\n",
      "\n",
      "Clusters vs Partnerships:\n",
      " Partnership   I  P\n",
      "Cluster           \n",
      "0            10  0\n",
      "1             1  5\n",
      "2             5  0\n",
      "3             5  0\n",
      "\n",
      "Clusters vs Location:\n",
      " Location  D   G\n",
      "Cluster        \n",
      "0         0  10\n",
      "1         6   0\n",
      "2         0   5\n",
      "3         5   0\n"
     ]
    }
   ],
   "source": [
    "stats['Cluster'] = clusters\n",
    "data_for_clustering = stats\n",
    "clustered_data = data_for_clustering[['SUP_ID', 'Cluster']].merge(characteristics_data, on='SUP_ID', how='left')\n",
    "# Generate crosstabulations for clusters against size, partnerships, and location\n",
    "# Table (i) Clusters against Size\n",
    "cluster_size = pd.crosstab(clustered_data['Cluster'], clustered_data['Size'])\n",
    "\n",
    "# Table (ii) Clusters against Partnerships\n",
    "cluster_partnership = pd.crosstab(clustered_data['Cluster'], clustered_data['Partnership'])\n",
    "\n",
    "# Table (iii) Clusters against Location\n",
    "cluster_location = pd.crosstab(clustered_data['Cluster'], clustered_data['Location'])\n",
    "\n",
    "# Display the tables\n",
    "print(\"Clusters vs Size:\\n\", cluster_size)\n",
    "print(\"\\nClusters vs Partnerships:\\n\", cluster_partnership)\n",
    "print(\"\\nClusters vs Location:\\n\", cluster_location)"
   ]
  },
  {
   "cell_type": "markdown",
   "metadata": {},
   "source": [
    "#### Clusters vs Size:\n",
    "\n",
    "Clusters 0, 1, and 2 predominantly consist of large suppliers, while Cluster 3 is mainly composed of medium to small suppliers. This indicates that larger suppliers tend to fall into distinct operational clusters, due to their scale influencing their operational metrics. Cluster 3's composition suggests that smaller suppliers might have more variability in defects and flexibility.\n",
    "\n",
    "#### Clusters vs Partnerships:\n",
    "\n",
    "Cluster 0 is exclusively composed of independent suppliers, while Cluster 1 has a majority of suppliers in partnerships. This suggests that independent suppliers in Cluster 0 might have higher defects and lower costs, due to less collaboration or resource sharing that partnerships might offer. Cluster 1 suppliers, in partnerships, show better quality and higher costs, potentially benefiting from shared expertise and resources.\n",
    "\n",
    "#### Clusters vs Location:\n",
    "\n",
    "Clusters are distinctly split by location. Cluster 0 and 2 suppliers are exclusively from Location G, while Clusters 1 and 3 suppliers are from Location D. This segregation by location could indicate regional differences in operations, influenced by local regulations, market conditions, or logistical factors.\n",
    "\n"
   ]
  },
  {
   "cell_type": "markdown",
   "metadata": {},
   "source": [
    "# Linear Programming "
   ]
  },
  {
   "cell_type": "code",
   "execution_count": 67,
   "metadata": {},
   "outputs": [
    {
     "data": {
      "text/plain": [
       "2000*x_S1_D1 + 2000*x_S1_D2 + 2000*x_S1_R1 + 2000*x_S1_R2 + 2000*x_S1_R3 + 2400*x_S2_D1 + 2400*x_S2_D2 + 2400*x_S2_R1 + 2400*x_S2_R2 + 2400*x_S2_R3 + 0"
      ]
     },
     "execution_count": 67,
     "metadata": {},
     "output_type": "execute_result"
    }
   ],
   "source": [
    "from pulp import LpProblem, LpMinimize, LpVariable, lpSum\n",
    "\n",
    "# Initialize the problem\n",
    "model = LpProblem(\"Minimize_Total_Cost\", LpMinimize)\n",
    "\n",
    "# Define the decision variables\n",
    "x = {\n",
    "    ('S1', 'D1'): LpVariable('x_S1_D1', lowBound=0),\n",
    "    ('S1', 'D2'): LpVariable('x_S1_D2', lowBound=0),\n",
    "    ('S1', 'R1'): LpVariable('x_S1_R1', lowBound=0),\n",
    "    ('S1', 'R2'): LpVariable('x_S1_R2', lowBound=0),\n",
    "    ('S1', 'R3'): LpVariable('x_S1_R3', lowBound=0),\n",
    "    ('S2', 'D1'): LpVariable('x_S2_D1', lowBound=0),\n",
    "    ('S2', 'D2'): LpVariable('x_S2_D2', lowBound=0),\n",
    "    ('S2', 'R1'): LpVariable('x_S2_R1', lowBound=0),\n",
    "    ('S2', 'R2'): LpVariable('x_S2_R2', lowBound=0),\n",
    "    ('S2', 'R3'): LpVariable('x_S2_R3', lowBound=0),\n",
    "    ('D1', 'R1'): LpVariable('x_D1_R1', lowBound=0),\n",
    "    ('D1', 'R2'): LpVariable('x_D1_R2', lowBound=0),\n",
    "    ('D1', 'R3'): LpVariable('x_D1_R3', lowBound=0),\n",
    "    ('D2', 'R1'): LpVariable('x_D2_R1', lowBound=0),\n",
    "    ('D2', 'R2'): LpVariable('x_D2_R2', lowBound=0),\n",
    "    ('D2', 'R3'): LpVariable('x_D2_R3', lowBound=0),\n",
    "}\n",
    "\n",
    "# Manufacturing costs\n",
    "man_costs = {\n",
    "    'S1': 2000,\n",
    "    'S2': 2400\n",
    "}\n",
    "\n",
    "# Total manufacturing cost\n",
    "total_manufacturing_cost = lpSum(man_costs['S1'] * x[('S1', dest)] for dest in ['D1', 'D2', 'R1', 'R2', 'R3']) + \\\n",
    "                           lpSum(man_costs['S2'] * x[('S2', dest)] for dest in ['D1', 'D2', 'R1', 'R2', 'R3'])\n",
    "\n",
    "total_manufacturing_cost\n"
   ]
  },
  {
   "cell_type": "markdown",
   "metadata": {},
   "source": [
    "## 2. Total Transportation Cost in Terms of Decision Variables"
   ]
  },
  {
   "cell_type": "code",
   "execution_count": 69,
   "metadata": {},
   "outputs": [
    {
     "data": {
      "text/plain": [
       "65*x_D1_R1 + 65*x_D1_R2 + 97.5*x_D1_R3 + 97.5*x_D2_R1 + 32.5*x_D2_R2 + 32.5*x_D2_R3 + 150*x_S1_D1 + 200*x_S1_D2 + 325*x_S1_R1 + 260*x_S1_R2 + 390*x_S1_R3 + 400*x_S2_D1 + 350*x_S2_D2 + 585*x_S2_R1 + 650*x_S2_R2 + 520*x_S2_R3 + 0.0"
      ]
     },
     "execution_count": 69,
     "metadata": {},
     "output_type": "execute_result"
    }
   ],
   "source": [
    "# Transportation costs (from the table provided)\n",
    "trans_costs = {\n",
    "    ('S1', 'D1'): 150,\n",
    "    ('S1', 'D2'): 200,\n",
    "    ('S1', 'R1'): 325,\n",
    "    ('S1', 'R2'): 260,\n",
    "    ('S1', 'R3'): 390,\n",
    "    ('S2', 'D1'): 400,\n",
    "    ('S2', 'D2'): 350,\n",
    "    ('S2', 'R1'): 585,\n",
    "    ('S2', 'R2'): 650,\n",
    "    ('S2', 'R3'): 520,\n",
    "    ('D1', 'R1'): 65,\n",
    "    ('D1', 'R2'): 65,\n",
    "    ('D1', 'R3'): 97.5,\n",
    "    ('D2', 'R1'): 97.5,\n",
    "    ('D2', 'R2'): 32.5,\n",
    "    ('D2', 'R3'): 32.5\n",
    "}\n",
    "\n",
    "# Total transportation cost\n",
    "total_transportation_cost = lpSum(trans_costs[(orig, dest)] * x[(orig, dest)] for orig, dest in x)\n",
    "\n",
    "total_transportation_cost\n",
    "\n"
   ]
  },
  {
   "cell_type": "markdown",
   "metadata": {},
   "source": [
    "## 3. Total Cost of Manufacturing and Transportation"
   ]
  },
  {
   "cell_type": "code",
   "execution_count": 70,
   "metadata": {},
   "outputs": [],
   "source": [
    "# Objective function\n",
    "model += total_manufacturing_cost + total_transportation_cost\n"
   ]
  },
  {
   "cell_type": "markdown",
   "metadata": {},
   "source": [
    "## 4. Constraints for the Problem"
   ]
  },
  {
   "cell_type": "code",
   "execution_count": 71,
   "metadata": {},
   "outputs": [],
   "source": [
    "# Demand constraints\n",
    "model += lpSum(x[('S1', 'R1')] + x[('S2', 'R1')] + x[('D1', 'R1')] + x[('D2', 'R1')]) == 1500, \"Demand_R1\"\n",
    "model += lpSum(x[('S1', 'R2')] + x[('S2', 'R2')] + x[('D1', 'R2')] + x[('D2', 'R2')]) == 2000, \"Demand_R2\"\n",
    "model += lpSum(x[('S1', 'R3')] + x[('S2', 'R3')] + x[('D1', 'R3')] + x[('D2', 'R3')]) == 1000, \"Demand_R3\"\n",
    "\n",
    "# Flow balance constraints\n",
    "model += lpSum(x[('S1', 'D1')] + x[('S2', 'D1')] - (x[('D1', 'R1')] + x[('D1', 'R2')] + x[('D1', 'R3')])) == 0, \"Flow_D1\"\n",
    "model += lpSum(x[('S1', 'D2')] + x[('S2', 'D2')] - (x[('D2', 'R1')] + x[('D2', 'R2')] + x[('D2', 'R3')])) == 0, \"Flow_D2\"\n"
   ]
  },
  {
   "cell_type": "markdown",
   "metadata": {},
   "source": [
    "## 5. Solve the Linear Programming Problem"
   ]
  },
  {
   "cell_type": "code",
   "execution_count": 72,
   "metadata": {},
   "outputs": [
    {
     "name": "stdout",
     "output_type": "stream",
     "text": [
      "Welcome to the CBC MILP Solver \n",
      "Version: 2.10.3 \n",
      "Build Date: Dec 15 2019 \n",
      "\n",
      "command line - /Users/panshulsaraswat/Library/Python/3.9/lib/python/site-packages/pulp/solverdir/cbc/osx/64/cbc /var/folders/xt/sj1wfv795tgfwwl993wgvjhh0000gn/T/030565f5187d45938030cad02ed3b8a1-pulp.mps -timeMode elapsed -branch -printingOptions all -solution /var/folders/xt/sj1wfv795tgfwwl993wgvjhh0000gn/T/030565f5187d45938030cad02ed3b8a1-pulp.sol (default strategy 1)\n",
      "At line 2 NAME          MODEL\n",
      "At line 3 ROWS\n",
      "At line 10 COLUMNS\n",
      "At line 49 RHS\n",
      "At line 55 BOUNDS\n",
      "At line 56 ENDATA\n",
      "Problem MODEL has 5 rows, 16 columns and 22 elements\n",
      "Coin0008I MODEL read with 0 errors\n",
      "Option for timeMode changed from cpu to elapsed\n",
      "Presolve 0 (-5) rows, 0 (-16) columns and 0 (-22) elements\n",
      "Empty problem - 0 rows, 0 columns and 0 elements\n",
      "Optimal - objective value 9985000\n",
      "After Postsolve, objective 9985000, infeasibilities - dual 0 (0), primal 0 (0)\n",
      "Optimal objective 9985000 - 0 iterations time 0.002, Presolve 0.00\n",
      "Option for printingOptions changed from normal to all\n",
      "Total time (CPU seconds):       0.00   (Wallclock seconds):       0.01\n",
      "\n",
      "Status: 1, Optimal\n",
      "x_S1_D1 = 3500.0\n",
      "x_S1_D2 = 1000.0\n",
      "x_S1_R1 = 0.0\n",
      "x_S1_R2 = 0.0\n",
      "x_S1_R3 = 0.0\n",
      "x_S2_D1 = 0.0\n",
      "x_S2_D2 = 0.0\n",
      "x_S2_R1 = 0.0\n",
      "x_S2_R2 = 0.0\n",
      "x_S2_R3 = 0.0\n",
      "x_D1_R1 = 1500.0\n",
      "x_D1_R2 = 2000.0\n",
      "x_D1_R3 = 0.0\n",
      "x_D2_R1 = 0.0\n",
      "x_D2_R2 = 0.0\n",
      "x_D2_R3 = 1000.0\n",
      "Total Cost = 9985000.0\n"
     ]
    }
   ],
   "source": [
    "# Solve the problem\n",
    "status = model.solve()\n",
    "\n",
    "# Print the status of the solution\n",
    "print(f\"Status: {model.status}, {LpStatus[model.status]}\")\n",
    "\n",
    "# Print the optimal values of the decision variables\n",
    "for var in x:\n",
    "    print(f\"{x[var].name} = {x[var].varValue}\")\n",
    "\n",
    "# Print the optimal total cost\n",
    "print(f\"Total Cost = {value(model.objective)}\")\n"
   ]
  },
  {
   "cell_type": "markdown",
   "metadata": {},
   "source": [
    "Network Overview and Results: The network comprises two suppliers (S1 and S2), two warehouses (D1 and D2), and three retailers (R1, R2, and R3). The primary objective is to minimize the total cost, which includes manufacturing and transportation expenses, while adequately fulfilling the demands of the retailers.\n",
    "\n",
    "Operational Details:\n",
    "•\tSupplier S1 supplies all the units needed by both warehouses:\n",
    "•\t𝑥(𝑆1,𝐷1)=3500.0x(S1,D1)=3500.0: S1 to D1\n",
    "•\t𝑥(𝑆1,𝐷2)=1000.0x(S1,D2)=1000.0: S1 to D2\n",
    "•\tWarehouses D1 and D2 distribute units to the retailers:\n",
    "•\t𝑥(𝐷1,𝑅1)=1500.0x(D1,R1)=1500.0: D1 to R1\n",
    "•\t𝑥(𝐷1,𝑅2)=2000.0x(D1,R2)=2000.0: D1 to R2\n",
    "•\t𝑥(𝐷2,𝑅3)=1000.0x(D2,R3)=1000.0: D2 to R3\n",
    "\n",
    "Cost and Efficiency Analysis:\n",
    "•\tTotal Cost: The operation's total cost is $9,985,000, which likely includes both manufacturing at the suppliers and transporting items throughout the network.\n",
    "\n",
    "Efficiency and Usage:\n",
    "•\tS1 is the exclusive supplier in use, implying a significant cost or capacity advantage.\n",
    "•\tS2 remains unused, suggesting that its associated costs or logistical constraints make it less viable under the current model.\n",
    "•\tWarehouses function effectively as intermediaries, ensuring no direct shipments from suppliers to retailers, which aligns with strategies to       minimize transportation costs.\n",
    "\n",
    "Strategic Insights: The optimal network design indicates that centralizing supply from S1 and efficiently using both warehouses to meet retailer demands leads to significant cost savings. The absence of direct shipments from suppliers to retailers and no utilization of S2 are strategic choices that likely contribute to the overall cost-efficiency. This arrangement highlights the network's robustness in logistics and supply chain management, ensuring demands are met efficiently without incurring unnecessary expenses.\n",
    "\n",
    "Conclusion: This setup, by optimizing the flow of goods from suppliers through warehouses to retailers, ensures that the supply chain operates at the lowest possible cost while meeting required demand levels. It showcases a streamlined, effective approach to distribution logistics, maximizing efficiency and potentially providing a model for scaling or adapting operations in response to changes in demand or cost structure.\n",
    "\n"
   ]
  }
 ],
 "metadata": {
  "kernelspec": {
   "display_name": "Python 3 (ipykernel)",
   "language": "python",
   "name": "python3"
  },
  "language_info": {
   "codemirror_mode": {
    "name": "ipython",
    "version": 3
   },
   "file_extension": ".py",
   "mimetype": "text/x-python",
   "name": "python",
   "nbconvert_exporter": "python",
   "pygments_lexer": "ipython3",
   "version": "3.9.6"
  }
 },
 "nbformat": 4,
 "nbformat_minor": 2
}
